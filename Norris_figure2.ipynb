{
 "cells": [
  {
   "cell_type": "markdown",
   "metadata": {},
   "source": [
    "## Replication of Norris figure 2\n",
    "\n",
    "This document attempts to replicate Pippa Norris'figure 2 in her 2017 article.\n",
    "\n",
    "Her figure 2 broke the trend down by country while my implementation pooled all countries and take the mean of the importance of democracy score of each age group."
   ]
  },
  {
   "cell_type": "code",
   "execution_count": 1,
   "metadata": {},
   "outputs": [],
   "source": [
    "import pandas as pd\n",
    "import numpy as np\n",
    "import matplotlib.pyplot as plt"
   ]
  },
  {
   "cell_type": "code",
   "execution_count": 2,
   "metadata": {},
   "outputs": [],
   "source": [
    "import warnings\n",
    "warnings.filterwarnings('ignore')"
   ]
  },
  {
   "cell_type": "code",
   "execution_count": 3,
   "metadata": {},
   "outputs": [],
   "source": [
    "wv5 = pd.read_csv(\"wave5.csv\")\n",
    "wv6 = pd.read_csv(\"wave6.csv\")"
   ]
  },
  {
   "cell_type": "code",
   "execution_count": 4,
   "metadata": {},
   "outputs": [],
   "source": [
    "# var of interests\n",
    "# wv6 -> V140, V2, V241\n",
    "# wv5 -> V162, V2, V236"
   ]
  },
  {
   "cell_type": "code",
   "execution_count": 5,
   "metadata": {},
   "outputs": [],
   "source": [
    "wv5_filtered = wv5[['V2', 'V162', 'V236']]"
   ]
  },
  {
   "cell_type": "code",
   "execution_count": 6,
   "metadata": {},
   "outputs": [],
   "source": [
    "wv6_filtered = wv6[['V2', 'V140', 'V241']]"
   ]
  },
  {
   "cell_type": "code",
   "execution_count": 7,
   "metadata": {},
   "outputs": [],
   "source": [
    "wv5_filtered.columns = ['countries', 'imp_dem', 'birthyear']\n",
    "wv6_filtered.columns = ['countries', 'imp_dem', 'birthyear']"
   ]
  },
  {
   "cell_type": "code",
   "execution_count": 8,
   "metadata": {},
   "outputs": [
    {
     "data": {
      "text/plain": [
       "array(['Andorra', 'Argentina', 'Australia', 'Brazil', 'Bulgaria',\n",
       "       'Burkina Faso', 'Canada', 'Colombia', 'Cyprus', 'Chile', 'China',\n",
       "       'Egypt', 'Ethiopia', 'Finland', 'France', 'Georgia', 'Germany',\n",
       "       'Ghana', 'Guatemala', 'Hong Kong', 'Hungary', 'India', 'Indonesia',\n",
       "       'Iran', 'Iraq', 'Italy', 'Japan', 'Jordan', 'Malaysia', 'Mali',\n",
       "       'Mexico', 'Moldova', 'Morocco', 'Netherlands', 'New Zealand',\n",
       "       'Norway', 'Peru', 'Poland', 'Romania', 'Russia', 'Rwanda',\n",
       "       'Serbia', 'Slovenia', 'South Africa', 'South Korea', 'Spain',\n",
       "       'Sweden', 'Switzerland', 'Taiwan', 'Thailand',\n",
       "       'Trinidad and Tobago', 'Turkey', 'Ukraine', 'United Kingdom',\n",
       "       'United States', 'Uruguay', 'Vietnam', 'Zambia'], dtype=object)"
      ]
     },
     "execution_count": 8,
     "metadata": {},
     "output_type": "execute_result"
    }
   ],
   "source": [
    "wv5_filtered['countries'].unique()"
   ]
  },
  {
   "cell_type": "code",
   "execution_count": 9,
   "metadata": {},
   "outputs": [],
   "source": [
    "country = ['Australia', 'Canada', 'Chile', 'Cyprus', 'Estonia', 'Finland', 'France', 'Germany',\n",
    "           'Hungary', 'Italy', 'Japan', 'South Korea', 'Netherlands', 'New Zealand', 'Norway', 'Poland',\n",
    "           'Romania', 'Slovenia', 'Spain', 'Sweden', 'Switzerland', 'United Kingdom', 'United States', 'Uruguay']"
   ]
  },
  {
   "cell_type": "code",
   "execution_count": 10,
   "metadata": {},
   "outputs": [],
   "source": [
    "wv5_filtered2 = wv5_filtered.loc[wv5_filtered['countries'].isin(country)]"
   ]
  },
  {
   "cell_type": "code",
   "execution_count": 11,
   "metadata": {},
   "outputs": [],
   "source": [
    "wv6_filtered2 = wv6_filtered.loc[wv6_filtered['countries'].isin(country)]"
   ]
  },
  {
   "cell_type": "code",
   "execution_count": 12,
   "metadata": {},
   "outputs": [
    {
     "data": {
      "text/plain": [
       "24"
      ]
     },
     "execution_count": 12,
     "metadata": {},
     "output_type": "execute_result"
    }
   ],
   "source": [
    "all_countries = set(wv5_filtered2['countries'].unique()).union(set(wv6_filtered2['countries'].unique()))\n",
    "len(all_countries)"
   ]
  },
  {
   "cell_type": "code",
   "execution_count": 13,
   "metadata": {},
   "outputs": [],
   "source": [
    "wv5_filtered3 = wv5_filtered2[wv5_filtered2[\"birthyear\"].isin([-5, -1, -2]) == False]\n",
    "wv6_filtered3 = wv6_filtered2[wv6_filtered2[\"birthyear\"].isin(['No answer']) == False]"
   ]
  },
  {
   "cell_type": "code",
   "execution_count": 14,
   "metadata": {},
   "outputs": [],
   "source": [
    "wv5_filtered3['birthyear'] = wv5_filtered3['birthyear'].astype('int64')\n",
    "wv6_filtered3['birthyear'] = wv6_filtered3['birthyear'].astype('int64')"
   ]
  },
  {
   "cell_type": "code",
   "execution_count": 15,
   "metadata": {},
   "outputs": [],
   "source": [
    "cats = [i for i in range(1, 11)]\n",
    "wv5_filtered3['imp_dem'].loc[wv5_filtered3['imp_dem'] == 'Not at all important'] = 1\n",
    "wv5_filtered3['imp_dem'] = wv5_filtered3['imp_dem'].astype('int64')\n",
    "wv5_filtered3 = wv5_filtered3[wv5_filtered3[\"imp_dem\"].isin(cats)]\n",
    "wv5_filtered3['imp_dem'] = wv5_filtered3['imp_dem'].astype('category')"
   ]
  },
  {
   "cell_type": "code",
   "execution_count": 16,
   "metadata": {},
   "outputs": [],
   "source": [
    "wv6_filtered3['imp_dem'].loc[wv6_filtered3['imp_dem'] == 'Not at all important'] = 1\n",
    "wv6_filtered3['imp_dem'] = wv6_filtered3['imp_dem'].astype('int64')\n",
    "wv6_filtered3 = wv6_filtered3[wv6_filtered3[\"imp_dem\"].isin(cats)]\n",
    "wv6_filtered3['imp_dem'] = wv6_filtered3['imp_dem'].astype('category')"
   ]
  },
  {
   "cell_type": "code",
   "execution_count": 17,
   "metadata": {},
   "outputs": [
    {
     "data": {
      "text/html": [
       "<div>\n",
       "<style scoped>\n",
       "    .dataframe tbody tr th:only-of-type {\n",
       "        vertical-align: middle;\n",
       "    }\n",
       "\n",
       "    .dataframe tbody tr th {\n",
       "        vertical-align: top;\n",
       "    }\n",
       "\n",
       "    .dataframe thead th {\n",
       "        text-align: right;\n",
       "    }\n",
       "</style>\n",
       "<table border=\"1\" class=\"dataframe\">\n",
       "  <thead>\n",
       "    <tr style=\"text-align: right;\">\n",
       "      <th></th>\n",
       "      <th>countries</th>\n",
       "      <th>imp_dem</th>\n",
       "      <th>birthyear</th>\n",
       "      <th>group</th>\n",
       "    </tr>\n",
       "  </thead>\n",
       "  <tbody>\n",
       "    <tr>\n",
       "      <th>2005</th>\n",
       "      <td>Australia</td>\n",
       "      <td>10</td>\n",
       "      <td>1921</td>\n",
       "      <td>'20 - '29</td>\n",
       "    </tr>\n",
       "    <tr>\n",
       "      <th>2006</th>\n",
       "      <td>Australia</td>\n",
       "      <td>10</td>\n",
       "      <td>1939</td>\n",
       "      <td>'30 - '39</td>\n",
       "    </tr>\n",
       "    <tr>\n",
       "      <th>2007</th>\n",
       "      <td>Australia</td>\n",
       "      <td>10</td>\n",
       "      <td>1954</td>\n",
       "      <td>'50 - '59</td>\n",
       "    </tr>\n",
       "    <tr>\n",
       "      <th>2008</th>\n",
       "      <td>Australia</td>\n",
       "      <td>10</td>\n",
       "      <td>1947</td>\n",
       "      <td>'40 - '49</td>\n",
       "    </tr>\n",
       "    <tr>\n",
       "      <th>2009</th>\n",
       "      <td>Australia</td>\n",
       "      <td>9</td>\n",
       "      <td>1965</td>\n",
       "      <td>'60 - '69</td>\n",
       "    </tr>\n",
       "  </tbody>\n",
       "</table>\n",
       "</div>"
      ],
      "text/plain": [
       "      countries imp_dem  birthyear      group\n",
       "2005  Australia      10       1921  '20 - '29\n",
       "2006  Australia      10       1939  '30 - '39\n",
       "2007  Australia      10       1954  '50 - '59\n",
       "2008  Australia      10       1947  '40 - '49\n",
       "2009  Australia       9       1965  '60 - '69"
      ]
     },
     "execution_count": 17,
     "metadata": {},
     "output_type": "execute_result"
    }
   ],
   "source": [
    "labels = [\"'{0} - '{1}\".format(i, i + 9) for i in range(0, 100, 10)]\n",
    "wv5_filtered3['group'] = pd.cut(wv5_filtered3['birthyear'], range(1900, 2005, 10), right=False, labels=labels)\n",
    "wv5_filtered3.head()"
   ]
  },
  {
   "cell_type": "code",
   "execution_count": 18,
   "metadata": {},
   "outputs": [
    {
     "data": {
      "text/html": [
       "<div>\n",
       "<style scoped>\n",
       "    .dataframe tbody tr th:only-of-type {\n",
       "        vertical-align: middle;\n",
       "    }\n",
       "\n",
       "    .dataframe tbody tr th {\n",
       "        vertical-align: top;\n",
       "    }\n",
       "\n",
       "    .dataframe thead th {\n",
       "        text-align: right;\n",
       "    }\n",
       "</style>\n",
       "<table border=\"1\" class=\"dataframe\">\n",
       "  <thead>\n",
       "    <tr style=\"text-align: right;\">\n",
       "      <th></th>\n",
       "      <th>countries</th>\n",
       "      <th>imp_dem</th>\n",
       "      <th>birthyear</th>\n",
       "      <th>group</th>\n",
       "    </tr>\n",
       "  </thead>\n",
       "  <tbody>\n",
       "    <tr>\n",
       "      <th>3330</th>\n",
       "      <td>Australia</td>\n",
       "      <td>10</td>\n",
       "      <td>1953</td>\n",
       "      <td>'50 - '59</td>\n",
       "    </tr>\n",
       "    <tr>\n",
       "      <th>3331</th>\n",
       "      <td>Australia</td>\n",
       "      <td>9</td>\n",
       "      <td>1967</td>\n",
       "      <td>'60 - '69</td>\n",
       "    </tr>\n",
       "    <tr>\n",
       "      <th>3332</th>\n",
       "      <td>Australia</td>\n",
       "      <td>4</td>\n",
       "      <td>1946</td>\n",
       "      <td>'40 - '49</td>\n",
       "    </tr>\n",
       "    <tr>\n",
       "      <th>3333</th>\n",
       "      <td>Australia</td>\n",
       "      <td>10</td>\n",
       "      <td>1952</td>\n",
       "      <td>'50 - '59</td>\n",
       "    </tr>\n",
       "    <tr>\n",
       "      <th>3334</th>\n",
       "      <td>Australia</td>\n",
       "      <td>10</td>\n",
       "      <td>1964</td>\n",
       "      <td>'60 - '69</td>\n",
       "    </tr>\n",
       "  </tbody>\n",
       "</table>\n",
       "</div>"
      ],
      "text/plain": [
       "      countries imp_dem  birthyear      group\n",
       "3330  Australia      10       1953  '50 - '59\n",
       "3331  Australia       9       1967  '60 - '69\n",
       "3332  Australia       4       1946  '40 - '49\n",
       "3333  Australia      10       1952  '50 - '59\n",
       "3334  Australia      10       1964  '60 - '69"
      ]
     },
     "execution_count": 18,
     "metadata": {},
     "output_type": "execute_result"
    }
   ],
   "source": [
    "wv6_filtered3['group'] = pd.cut(wv6_filtered3['birthyear'], range(1900, 2005, 10), right=False, labels=labels)\n",
    "wv6_filtered3.head()"
   ]
  },
  {
   "cell_type": "code",
   "execution_count": 19,
   "metadata": {},
   "outputs": [],
   "source": [
    "df_final = wv5_filtered3.append(wv6_filtered3, ignore_index=True)"
   ]
  },
  {
   "cell_type": "code",
   "execution_count": 20,
   "metadata": {},
   "outputs": [],
   "source": [
    "df_final['imp_dem'] = df_final['imp_dem'].astype('int64')"
   ]
  },
  {
   "cell_type": "code",
   "execution_count": 21,
   "metadata": {},
   "outputs": [],
   "source": [
    "imp_scores_by_age_group = df_final.groupby(['group']).mean()['imp_dem']"
   ]
  },
  {
   "cell_type": "code",
   "execution_count": 22,
   "metadata": {},
   "outputs": [
    {
     "data": {
      "image/png": "[encoded data removed]",
      "text/plain": [
       "<Figure size 576x360 with 1 Axes>"
      ]
     },
     "metadata": {
      "needs_background": "light"
     },
     "output_type": "display_data"
    },
    {
     "name": "stdout",
     "output_type": "stream",
     "text": [
      "Please note that Norris excluded group 1, 2, 9 and 10 in her plot\n"
     ]
    }
   ],
   "source": [
    "plt.figure(figsize=(8, 5))\n",
    "plt.ylim(0, 10) \n",
    "plt.plot(list(imp_scores_by_age_group.index), imp_scores_by_age_group.values)\n",
    "plt.xticks(np.arange(10), [i for i in range(1, 11)], rotation=45)\n",
    "plt.title('Pooled 24 Countries; Declining trend is still detectable')\n",
    "plt.xlabel('binned age group where 1 in range [1900, 1909] and so on')\n",
    "plt.ylabel('mean importance of democracy within age group')\n",
    "plt.savefig('replicated_pooled_figure2.png')\n",
    "plt.show()\n",
    "print('Please note that Norris excluded group 1, 2, 9 and 10 in her plot')"
   ]
  }
 ],
 "metadata": {
  "kernelspec": {
   "display_name": "Python 3",
   "language": "python",
   "name": "python3"
  },
  "language_info": {
   "codemirror_mode": {
    "name": "ipython",
    "version": 3
   },
   "file_extension": ".py",
   "mimetype": "text/x-python",
   "name": "python",
   "nbconvert_exporter": "python",
   "pygments_lexer": "ipython3",
   "version": "3.6.8"
  }
 },
 "nbformat": 4,
 "nbformat_minor": 2
}
